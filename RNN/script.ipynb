{
 "cells": [
  {
   "cell_type": "code",
   "execution_count": 1,
   "id": "9b572eb3",
   "metadata": {},
   "outputs": [],
   "source": [
    "import numpy as np"
   ]
  },
  {
   "cell_type": "code",
   "execution_count": null,
   "id": "611240c9",
   "metadata": {},
   "outputs": [],
   "source": [
    "import numpy as np\n",
    "\n",
    "class SimpleRNN:\n",
    "    def __init__(self, input_size, hidden_size, output_size):\n",
    "        self.input_size = input_size\n",
    "        self.hidden_size = hidden_size\n",
    "        self.output_size = output_size\n",
    "\n",
    "        self.Wxh = np.random.randn(hidden_size, input_size) * 0.01\n",
    "        self.Whh = np.random.randn(hidden_size, hidden_size) * 0.01\n",
    "        self.Why = np.random.randn(output_size, hidden_size) * 0.01\n",
    "\n",
    "        self.bh = np.zeros((hidden_size, 1))\n",
    "        self.by = np.zeros((output_size, 1))\n",
    "\n",
    "    def forward(self, inputs):\n",
    "        h = np.zeros((self.hidden_size, 1))\n",
    "        self.hs = []  \n",
    "        self.as_ = []\n",
    "\n",
    "        for x in inputs:\n",
    "            a = self.Wxh @ x + self.Whh @ h + self.bh\n",
    "            h = np.tanh(a)\n",
    "\n",
    "            self.as_.append(a)\n",
    "            self.hs.append(h)\n",
    "\n",
    "        y = self.Why @ h + self.by\n",
    "        self.last_h = h\n",
    "        return y\n",
    "\n",
    "    def backward(self, x_seq, y_pred, y_true, lr=0.1):\n",
    "        dy = y_pred - y_true \n",
    "\n",
    "        dWhy = dy @ self.last_h.T\n",
    "        dby = dy\n",
    "\n",
    "        dh = self.Why.T @ dy\n",
    "        dWxh = np.zeros_like(self.Wxh)\n",
    "        dWhh = np.zeros_like(self.Whh)\n",
    "        dbh = np.zeros_like(self.bh)\n",
    "\n",
    "        for t in reversed(range(len(x_seq))):\n",
    "            a = self.as_[t]\n",
    "            h_prev = self.hs[t - 1] if t > 0 else np.zeros_like(self.hs[0])\n",
    "\n",
    "            da = (1 - np.tanh(a)**2) * dh\n",
    "            dWxh += da @ x_seq[t].T\n",
    "            dWhh += da @ h_prev.T\n",
    "            dbh += da\n",
    "\n",
    "            dh = self.Whh.T @ da\n",
    "\n",
    "        self.Wxh -= lr * dWxh\n",
    "        self.Whh -= lr * dWhh\n",
    "        self.Why -= lr * dWhy\n",
    "        self.bh -= lr * dbh\n",
    "        self.by -= lr * dby\n",
    "\n",
    "    def train(self, x_seq, y_true, epochs=500, lr=0.1):\n",
    "        for epoch in range(epochs):\n",
    "            y_pred = self.forward(x_seq)\n",
    "            loss = np.sum((y_pred - y_true)**2) / 2\n",
    "            self.backward(x_seq, y_pred, y_true, lr)\n",
    "\n",
    "            if epoch % 50 == 0:\n",
    "                print(f\"Epoch {epoch}: Loss = {loss:.4f}\")\n"
   ]
  },
  {
   "cell_type": "code",
   "execution_count": null,
   "id": "2cdab290",
   "metadata": {},
   "outputs": [],
   "source": [
    "def train(self, x_seq, y_true, epochs=500, lr=0.1):\n",
    "    for epoch in range(epochs):\n",
    "        y_pred = self.forward(x_seq)\n",
    "        loss = np.sum((y_pred - y_true)**2) / 2\n",
    "        self.backward(x_seq, y_pred, y_true, lr)\n",
    "\n",
    "        if epoch % 50 == 0:\n",
    "            print(f\"Epoch {epoch}: Loss = {loss:.4f}\")"
   ]
  },
  {
   "cell_type": "code",
   "execution_count": null,
   "id": "e0afe547",
   "metadata": {},
   "outputs": [],
   "source": []
  }
 ],
 "metadata": {
  "kernelspec": {
   "display_name": "mlscripts",
   "language": "python",
   "name": "python3"
  },
  "language_info": {
   "codemirror_mode": {
    "name": "ipython",
    "version": 3
   },
   "file_extension": ".py",
   "mimetype": "text/x-python",
   "name": "python",
   "nbconvert_exporter": "python",
   "pygments_lexer": "ipython3",
   "version": "3.13.0"
  }
 },
 "nbformat": 4,
 "nbformat_minor": 5
}
