{
 "cells": [
  {
   "cell_type": "code",
   "execution_count": 7,
   "id": "f9e8c51c",
   "metadata": {},
   "outputs": [
    {
     "name": "stdout",
     "output_type": "stream",
     "text": [
      "Original Data (X):\n",
      " [[2.5 2.4]\n",
      " [0.5 0.7]\n",
      " [2.2 2.9]\n",
      " [1.9 2.2]\n",
      " [3.1 3. ]\n",
      " [2.3 2.7]\n",
      " [2.  1.6]\n",
      " [1.  1.1]\n",
      " [1.5 1.6]\n",
      " [1.1 0.9]]\n",
      "(10, 2)\n"
     ]
    }
   ],
   "source": [
    "import numpy as np\n",
    "\n",
    "X = np.array([\n",
    "    [2.5, 2.4],\n",
    "    [0.5, 0.7],\n",
    "    [2.2, 2.9],\n",
    "    [1.9, 2.2],\n",
    "    [3.1, 3.0],\n",
    "    [2.3, 2.7],\n",
    "    [2.0, 1.6],\n",
    "    [1.0, 1.1],\n",
    "    [1.5, 1.6],\n",
    "    [1.1, 0.9]\n",
    "])\n",
    "\n",
    "print(\"Original Data (X):\\n\", X)\n",
    "print(X.shape)\n",
    "\n",
    "x_mean = np.mean(X , axis=0)\n",
    "x_centered = X - x_mean\n",
    "cov_matrix = np.cov(x_centered, rowvar=False)\n",
    "eigenvalue , eigenvectors = np.linalg.eigh(cov_matrix)\n",
    "\n"
   ]
  },
  {
   "cell_type": "code",
   "execution_count": 8,
   "id": "f46f6da2",
   "metadata": {},
   "outputs": [
    {
     "name": "stdout",
     "output_type": "stream",
     "text": [
      "[0.0490834  1.28402771]\n",
      "[[-0.73517866  0.6778734 ]\n",
      " [ 0.6778734   0.73517866]]\n"
     ]
    }
   ],
   "source": [
    "print(eigenvalue)\n",
    "print(eigenvectors)"
   ]
  },
  {
   "cell_type": "code",
   "execution_count": 14,
   "id": "fb95e146",
   "metadata": {},
   "outputs": [
    {
     "name": "stdout",
     "output_type": "stream",
     "text": [
      "[0 1]\n",
      "[1.28402771 0.0490834 ]\n",
      "[[-0.73517866  0.6778734 ]\n",
      " [ 0.6778734   0.73517866]]\n"
     ]
    }
   ],
   "source": [
    "sorted_indices = np.argsort(eigenvalue)[::-1]\n",
    "print(sorted_indices)\n",
    "eigenvalue = eigenvalue[sorted_indices]\n",
    "print(eigenvalue)\n",
    "\n",
    "\n",
    "eigenvectors = eigenvectors[: , sorted_indices]\n",
    "print(eigenvectors)"
   ]
  },
  {
   "cell_type": "code",
   "execution_count": 15,
   "id": "d063b693",
   "metadata": {},
   "outputs": [
    {
     "name": "stdout",
     "output_type": "stream",
     "text": [
      "\n",
      "Projected Data (onto 1D):\n",
      " [[-0.17511531]\n",
      " [ 0.14285723]\n",
      " [ 0.38437499]\n",
      " [ 0.13041721]\n",
      " [-0.20949846]\n",
      " [ 0.17528244]\n",
      " [-0.3498247 ]\n",
      " [ 0.04641726]\n",
      " [ 0.01776463]\n",
      " [-0.16267529]]\n"
     ]
    }
   ],
   "source": [
    "k = 1\n",
    "top_k_eigenvectors = eigenvectors[:, :k]\n",
    "X_projected = x_centered @ top_k_eigenvectors\n",
    "\n",
    "print(f\"\\nProjected Data (onto {k}D):\\n\", X_projected)"
   ]
  }
 ],
 "metadata": {
  "kernelspec": {
   "display_name": "mlscripts",
   "language": "python",
   "name": "python3"
  },
  "language_info": {
   "codemirror_mode": {
    "name": "ipython",
    "version": 3
   },
   "file_extension": ".py",
   "mimetype": "text/x-python",
   "name": "python",
   "nbconvert_exporter": "python",
   "pygments_lexer": "ipython3",
   "version": "3.13.0"
  }
 },
 "nbformat": 4,
 "nbformat_minor": 5
}
